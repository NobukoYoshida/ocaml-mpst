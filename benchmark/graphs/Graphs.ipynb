{
 "cells": [
  {
   "cell_type": "code",
   "execution_count": 1,
   "metadata": {},
   "outputs": [],
   "source": [
    "from sexpdata import loads, dumps, Symbol\n",
    "from pathlib import Path\n",
    "from IPython.display import display\n",
    "\n",
    "import matplotlib.pyplot as plt\n",
    "import numpy as np\n",
    "import matplotlib \n",
    "matplotlib.rc('xtick', labelsize=20) \n",
    "matplotlib.rc('ytick', labelsize=20) \n"
   ]
  },
  {
   "cell_type": "code",
   "execution_count": 2,
   "metadata": {},
   "outputs": [],
   "source": [
    "color_sequence = ['#1f77b4', '#ff7f0e', '#2ca02c',\n",
    "                  '#d62728', '#9467bd',\n",
    "                  '#8c564b', '#e377c2', '#7f7f7f',\n",
    "                  '#bcbd22', '#17becf']\n",
    "\n",
    "blue = '#4400FF'\n",
    "yellow = '#FFD500'\n",
    "purple = '#e377c2'\n",
    "red = '#d62728'\n",
    "\n",
    "\n",
    "sta_color = blue\n",
    "dyn_color = yellow\n",
    "bare_color = red"
   ]
  },
  {
   "cell_type": "code",
   "execution_count": 3,
   "metadata": {},
   "outputs": [],
   "source": [
    "# convert benchmark sexp to a list of dicts\n",
    "def load_sexp(fname):\n",
    "    txt = Path(fname).read_text()\n",
    "    rows = loads(txt)\n",
    "    rows = [dict((sym.value(),val) for [sym,val] in row) for row in rows]\n",
    "    rows = dict((row['full_benchmark_name'].value(),row) for row in rows)\n",
    "    return rows\n",
    "\n",
    "# display(rows)\n",
    "\n",
    "ping = load_sexp('../pingpong/results/table_sexp.txt')\n",
    "bare = load_sexp('../bare_pingpong/results/table_sexp.txt')\n",
    "\n",
    "sta = [\n",
    "    ping['ev_static']['time_per_run_nanos'],\n",
    "    ping['ipc_static:1']['time_per_run_nanos'],\n",
    "    ping['ipc_static:1000']['time_per_run_nanos'],\n",
    "]\n",
    "\n",
    "dyn = [\n",
    "    ping['ev_dynamic']['time_per_run_nanos'],\n",
    "    ping['ipc_dynamic:1']['time_per_run_nanos'],\n",
    "    ping['ipc_dynamic:1000']['time_per_run_nanos'],\n",
    "]\n",
    "\n",
    "zero = [\n",
    "    0.0, 0.0, 0.0\n",
    "]\n",
    "\n",
    "bare = [\n",
    "    bare['lwt_bare_nowrapper']['time_per_run_nanos']\n",
    "#    bare['lwt_bare']['time_per_run_nanos']\n",
    "#    bare['lwt_bare_mimic-mpst']['time_per_run_nanos']\n",
    "]\n",
    "lwt_dyn = [ping['lwt_dynamic']['time_per_run_nanos']]\n",
    "lwt_sta = [ping['lwt_static']['time_per_run_nanos']]\n",
    "\n"
   ]
  },
  {
   "cell_type": "code",
   "execution_count": 4,
   "metadata": {},
   "outputs": [],
   "source": [
    "def pingpong():\n",
    "    fig, axes = plt.subplots(1, 2, \n",
    "                             gridspec_kw={'width_ratios': [1, 3]},\n",
    "                             squeeze = False)\n",
    "    (ax_lwt, ax_evpipe) = axes[0][0], axes[0][1]\n",
    "\n",
    "    def scale(xs):\n",
    "        return [x/1000 for x in xs]\n",
    "\n",
    "    def evpipe():\n",
    "        width = 0.4\n",
    "        x = np.arange(3)\n",
    "        dyn_ = scale(dyn)\n",
    "        sta_ = scale(sta)\n",
    "        ax_evpipe.bar(x, dyn_, width*0.8, color=dyn_color, label='Dynamic', error_kw={'ecolor':'black',\n",
    "                                  'linewidth':2,'capthick':2}, hatch='x') \n",
    "\n",
    "        ax_evpipe.bar(x + width, sta_, width*0.8, color=sta_color, label='Static', error_kw={'ecolor':'black',\n",
    "                                  'linewidth':2,'capthick':2}, hatch='//') \n",
    "\n",
    "        # for legends\n",
    "        ax_evpipe.bar(x + width, zero, width*0.8, color=bare_color, label='Bare', hatch='//') \n",
    "\n",
    "        ax_evpipe.set_xticks(x + width/2)\n",
    "        ax_evpipe.set_xticklabels(['ev', 'p-1', 'p-1000'], fontsize=20)\n",
    "        legend = ax_evpipe.legend(loc='lower right', shadow=True, fontsize=20)\n",
    "        legend.get_frame().set_facecolor('#FFFFFF')\n",
    "\n",
    "    def lwt():\n",
    "        width = 0.4\n",
    "        lwt_dyn_ = scale(lwt_dyn)\n",
    "        lwt_sta_ = scale(lwt_sta)\n",
    "        bare_ = scale(bare)\n",
    "        x = np.arange(1)\n",
    "        ax_lwt.bar(x, lwt_dyn_, width*0.8, color=dyn_color, label='Dyn', error_kw={'ecolor':'black',\n",
    "                                  'linewidth':2,'capthick':2}, hatch='x') \n",
    "        ax_lwt.bar(x + width, lwt_sta_, width*0.8, color=sta_color, label='Sta', error_kw={'ecolor':'black',\n",
    "                                  'linewidth':2,'capthick':2}, hatch='x') \n",
    "        ax_lwt.bar(x + width*2, bare_, width*0.8, color=bare_color, label='Bare', error_kw={'ecolor':'black',\n",
    "                              'linewidth':2,'capthick':2}, hatch='//') \n",
    "        ax_lwt.set_ylabel('micro sec', fontsize=16) \n",
    "        ax_lwt.set_xticks(x+width)\n",
    "        ax_lwt.set_xticklabels(['lwt'], fontsize=20)\n",
    "        #ax_lwt.set_ylabel('nano sec', fontsize=16) \n",
    "\n",
    "    evpipe()\n",
    "    lwt()\n",
    "\n",
    "    fig.suptitle ('Ping Pong', fontsize=16, y=0.98)\n",
    "\n",
    "    def make_space_above(axes, topmargin=1):\n",
    "        \"\"\" increase figure size to make topmargin (in inches) space for \n",
    "            titles, without changing the axes sizes\"\"\"\n",
    "        fig = axes.flatten()[0].figure\n",
    "        s = fig.subplotpars\n",
    "        w, h = fig.get_size_inches()\n",
    "\n",
    "        figh = h - (1-s.top)*h  + topmargin\n",
    "        fig.subplots_adjust(bottom=s.bottom*h/figh, top=1-topmargin/figh)\n",
    "        fig.set_figheight(figh)\n",
    "\n",
    "    plt.tight_layout()\n",
    "    make_space_above(axes, topmargin=0.4)\n",
    "\n",
    "    #plt.tight_layout()\n",
    "    plt.savefig('pingpong.pdf', format='pdf', pad_inches=0)\n",
    "    plt.show()\n"
   ]
  },
  {
   "cell_type": "code",
   "execution_count": 5,
   "metadata": {},
   "outputs": [
    {
     "data": {
      "image/png": "[encoded data removed]",
      "text/plain": [
       "<Figure size 432x306 with 2 Axes>"
      ]
     },
     "metadata": {},
     "output_type": "display_data"
    }
   ],
   "source": [
    "pingpong()"
   ]
  },
  {
   "cell_type": "code",
   "execution_count": null,
   "metadata": {},
   "outputs": [],
   "source": []
  },
  {
   "cell_type": "code",
   "execution_count": null,
   "metadata": {},
   "outputs": [],
   "source": []
  }
 ],
 "metadata": {
  "kernelspec": {
   "display_name": "Python 3",
   "language": "python",
   "name": "python3"
  },
  "language_info": {
   "codemirror_mode": {
    "name": "ipython",
    "version": 3
   },
   "file_extension": ".py",
   "mimetype": "text/x-python",
   "name": "python",
   "nbconvert_exporter": "python",
   "pygments_lexer": "ipython3",
   "version": "3.6.1"
  }
 },
 "nbformat": 4,
 "nbformat_minor": 2
}
